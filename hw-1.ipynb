{
 "cells": [
  {
   "cell_type": "code",
   "execution_count": 39,
   "metadata": {},
   "outputs": [
    {
     "name": "stdout",
     "output_type": "stream",
     "text": [
      "(82, 15, 0.004967141530112327, 261.00496714153013)\n"
     ]
    }
   ],
   "source": [
    "#generate a serires of 1000 random numbers including x1,x2,y that satisify 3x1+x2+c=y  #return a list of 1000 random numbers #%pip install matplotlib\n",
    "import random\n",
    "import numpy as np\n",
    "# 设置随机数种子\n",
    "random.seed(42)\n",
    "np.random.seed(42)\n",
    "def generate_random_numbers():  # 生成随机数 x1, x2, c, y ，c满足正态分布（0，0.01）\n",
    "    x1 = random.randint(1, 100)\n",
    "    x2 = random.randint(1, 100)\n",
    "    c = np.random.normal(0, 0.01)\n",
    "    y = 3*x1 + x2 + c\n",
    "    return x1, x2, c, y\n",
    "\n",
    "def generate_random_numbers_list():\n",
    "    random_numbers = []\n",
    "    for i in range(1000):\n",
    "        random_numbers.append(generate_random_numbers())\n",
    "    return random_numbers\n",
    "\n",
    "# 生成并打印随机数列表\n",
    "random_numbers_list = generate_random_numbers_list()\n",
    "print(random_numbers_list[0])  # 打印第一个生成的随机数组合，用于验证随机性"
   ]
  },
  {
   "cell_type": "code",
   "execution_count": 44,
   "metadata": {},
   "outputs": [
    {
     "name": "stdout",
     "output_type": "stream",
     "text": [
      "回归系数: [3. 1. 1.]\n"
     ]
    }
   ],
   "source": [
    "#使用均方差作为目标函数，对随机数列表进行线性回归，并输出回归系数\n",
    "from sklearn.linear_model import LinearRegression\n",
    "from sklearn.metrics import mean_squared_error\n",
    "\n",
    "# 将随机数列表转换为numpy数组\n",
    "random_numbers_array = np.array(random_numbers_list)\n",
    "\n",
    "# 提取特征和标签\n",
    "X = random_numbers_array[:, :3]\n",
    "y = random_numbers_array[:, 3]\n",
    "\n",
    "# 创建线性回归模型\n",
    "model = LinearRegression()\n",
    "\n",
    "# 训练模型\n",
    "model.fit(X, y)\n",
    "\n",
    "# 预测\n",
    "y_pred = model.predict(X)\n",
    "\n",
    "# 计算均方差\n",
    "mse = mean_squared_error(y, y_pred)\n",
    "\n",
    "# 输出回归系数和均方差\n",
    "print('回归系数:', model.coef_)"
   ]
  },
  {
   "cell_type": "code",
   "execution_count": 43,
   "metadata": {},
   "outputs": [
    {
     "name": "stdout",
     "output_type": "stream",
     "text": [
      "Requirement already satisfied: scikit-learn in /opt/anaconda3/envs/myenv/lib/python3.11/site-packages (1.5.1)\n",
      "Requirement already satisfied: numpy>=1.19.5 in /opt/anaconda3/envs/myenv/lib/python3.11/site-packages (from scikit-learn) (1.23.5)\n",
      "Requirement already satisfied: scipy>=1.6.0 in /opt/anaconda3/envs/myenv/lib/python3.11/site-packages (from scikit-learn) (1.10.1)\n",
      "Requirement already satisfied: joblib>=1.2.0 in /opt/anaconda3/envs/myenv/lib/python3.11/site-packages (from scikit-learn) (1.4.2)\n",
      "Requirement already satisfied: threadpoolctl>=3.1.0 in /opt/anaconda3/envs/myenv/lib/python3.11/site-packages (from scikit-learn) (3.5.0)\n",
      "Note: you may need to restart the kernel to use updated packages.\n",
      "模型系数：[2.99997882 0.99998994]\n"
     ]
    }
   ],
   "source": [
    "#为随机数列表拟合一个函数关系式 y=ax1+bx2+c\n",
    "#%pip install scikit-learn\n",
    "%pip install scikit-learn\n",
    "import sklearn\n",
    "from sklearn.linear_model import LinearRegression\n",
    "def fit_linear_model(random_numbers_list):\n",
    "    # 提取 x1, x2, y\n",
    "    x1 = [x1 for x1, x2, c, y in random_numbers_list]\n",
    "    x2 = [x2 for x1, x2, c, y in random_numbers_list]\n",
    "    y = [y for x1, x2, c, y in random_numbers_list]\n",
    "\n",
    "    # 创建线性回归模型\n",
    "    model = LinearRegression()\n",
    "    X = np.column_stack((x1, x2))\n",
    "    model.fit(X, y)\n",
    "\n",
    "    # 打印模型系数\n",
    "    print(f\"模型系数：{model.coef_}\")\n",
    "#输出模型系数\n",
    "fit_linear_model(random_numbers_list)\n"
   ]
  },
  {
   "cell_type": "code",
   "execution_count": null,
   "metadata": {},
   "outputs": [],
   "source": [
    "#生成一个函数\n",
    "\n",
    "def generate_function(random_numbers_list):\n"
   ]
  }
 ],
 "metadata": {
  "kernelspec": {
   "display_name": "myenv",
   "language": "python",
   "name": "python3"
  },
  "language_info": {
   "codemirror_mode": {
    "name": "ipython",
    "version": 3
   },
   "file_extension": ".py",
   "mimetype": "text/x-python",
   "name": "python",
   "nbconvert_exporter": "python",
   "pygments_lexer": "ipython3",
   "version": "3.11.9"
  }
 },
 "nbformat": 4,
 "nbformat_minor": 2
}
